{
  "nbformat": 4,
  "nbformat_minor": 0,
  "metadata": {
    "colab": {
      "name": "Third.ipynb",
      "provenance": [],
      "collapsed_sections": [],
      "authorship_tag": "ABX9TyNzIZJD+869tFzgLDSpuhR+",
      "include_colab_link": true
    },
    "kernelspec": {
      "name": "python3",
      "display_name": "Python 3"
    },
    "language_info": {
      "name": "python"
    }
  },
  "cells": [
    {
      "cell_type": "markdown",
      "metadata": {
        "id": "view-in-github",
        "colab_type": "text"
      },
      "source": [
        "<a href=\"https://colab.research.google.com/github/koder2021/Jupyter/blob/develop/Third.ipynb\" target=\"_parent\"><img src=\"https://colab.research.google.com/assets/colab-badge.svg\" alt=\"Open In Colab\"/></a>"
      ]
    },
    {
      "cell_type": "markdown",
      "metadata": {
        "id": "lgTB5mhuwAmw"
      },
      "source": [
        "# **Третий файл**"
      ]
    },
    {
      "cell_type": "code",
      "metadata": {
        "colab": {
          "base_uri": "https://localhost:8080/"
        },
        "id": "q-5npZJSvPuc",
        "outputId": "deff139e-8d2f-4de3-d432-cc50c3e9c5b8"
      },
      "source": [
        "print('Hello World!')"
      ],
      "execution_count": 5,
      "outputs": [
        {
          "output_type": "stream",
          "name": "stdout",
          "text": [
            "Hello World!\n"
          ]
        }
      ]
    },
    {
      "cell_type": "markdown",
      "metadata": {
        "id": "jeW8CI481krd"
      },
      "source": [
        "$\\sqrt{3x-1}+(1+x)^2$"
      ]
    },
    {
      "cell_type": "markdown",
      "metadata": {
        "id": "MZ1DZ-4J9gf_"
      },
      "source": [
        "# Текущие дата и время"
      ]
    },
    {
      "cell_type": "code",
      "metadata": {
        "colab": {
          "base_uri": "https://localhost:8080/"
        },
        "id": "ew81Y37Z5HXl",
        "outputId": "a1dc26a1-5d94-4a07-ab4c-5f26c991f7ce"
      },
      "source": [
        "import datetime\n",
        "my_datetime = datetime.datetime.now()\n",
        "my_datetime_str = my_datetime.strftime(\"%d %b\" '\\n' \"%H:%M\")\n",
        "print(my_datetime_str)"
      ],
      "execution_count": 24,
      "outputs": [
        {
          "output_type": "stream",
          "name": "stdout",
          "text": [
            "13 Nov\n",
            "06:21\n"
          ]
        }
      ]
    }
  ]
}